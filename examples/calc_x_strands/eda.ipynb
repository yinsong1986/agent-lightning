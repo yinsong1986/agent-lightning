{
 "cells": [
  {
   "cell_type": "code",
   "execution_count": 37,
   "id": "329a2b81",
   "metadata": {},
   "outputs": [],
   "source": [
    "import pandas as pd\n",
    "pd.set_option('display.max_colwidth', 400)"
   ]
  },
  {
   "cell_type": "code",
   "execution_count": null,
   "id": "fb8b05e8",
   "metadata": {},
   "outputs": [],
   "source": [
    "df = pd.read_parquet(\"data/test.parquet\")"
   ]
  },
  {
   "cell_type": "code",
   "execution_count": 21,
   "id": "015c68bf",
   "metadata": {},
   "outputs": [
    {
     "data": {
      "text/html": [
       "<div>\n",
       "<style scoped>\n",
       "    .dataframe tbody tr th:only-of-type {\n",
       "        vertical-align: middle;\n",
       "    }\n",
       "\n",
       "    .dataframe tbody tr th {\n",
       "        vertical-align: top;\n",
       "    }\n",
       "\n",
       "    .dataframe thead th {\n",
       "        text-align: right;\n",
       "    }\n",
       "</style>\n",
       "<table border=\"1\" class=\"dataframe\">\n",
       "  <thead>\n",
       "    <tr style=\"text-align: right;\">\n",
       "      <th></th>\n",
       "      <th>id</th>\n",
       "      <th>question</th>\n",
       "      <th>chain</th>\n",
       "      <th>result</th>\n",
       "      <th>source</th>\n",
       "    </tr>\n",
       "  </thead>\n",
       "  <tbody>\n",
       "    <tr>\n",
       "      <th>104</th>\n",
       "      <td>asdiv_a__nluds-0964</td>\n",
       "      <td>Belle collected 97 animal stickers. Carolyn co...</td>\n",
       "      <td>&lt;gadget id=\"calculator\"&gt;97 - 18&lt;/gadget&gt;\\n&lt;out...</td>\n",
       "      <td>79</td>\n",
       "      <td>calc</td>\n",
       "    </tr>\n",
       "    <tr>\n",
       "      <th>266</th>\n",
       "      <td>asdiv_a__nluds-1813</td>\n",
       "      <td>Carol was helping her mom plant vegetables in ...</td>\n",
       "      <td>&lt;gadget id=\"calculator\"&gt;6 * 9&lt;/gadget&gt;\\n&lt;outpu...</td>\n",
       "      <td>54</td>\n",
       "      <td>calc</td>\n",
       "    </tr>\n",
       "    <tr>\n",
       "      <th>476</th>\n",
       "      <td>gsm8k__rc51lnAMtwQxIxDG</td>\n",
       "      <td>Carol spends 4 hours writing a song, half that...</td>\n",
       "      <td>First find how long Carol spent writing the so...</td>\n",
       "      <td>20</td>\n",
       "      <td>calc</td>\n",
       "    </tr>\n",
       "  </tbody>\n",
       "</table>\n",
       "</div>"
      ],
      "text/plain": [
       "                          id  \\\n",
       "104      asdiv_a__nluds-0964   \n",
       "266      asdiv_a__nluds-1813   \n",
       "476  gsm8k__rc51lnAMtwQxIxDG   \n",
       "\n",
       "                                              question  \\\n",
       "104  Belle collected 97 animal stickers. Carolyn co...   \n",
       "266  Carol was helping her mom plant vegetables in ...   \n",
       "476  Carol spends 4 hours writing a song, half that...   \n",
       "\n",
       "                                                 chain result source  \n",
       "104  <gadget id=\"calculator\">97 - 18</gadget>\\n<out...     79   calc  \n",
       "266  <gadget id=\"calculator\">6 * 9</gadget>\\n<outpu...     54   calc  \n",
       "476  First find how long Carol spent writing the so...     20   calc  "
      ]
     },
     "execution_count": 21,
     "metadata": {},
     "output_type": "execute_result"
    }
   ],
   "source": [
    "df[df[\"question\"].str.contains(\"Carol\")]"
   ]
  },
  {
   "cell_type": "code",
   "execution_count": 22,
   "id": "b625fc71",
   "metadata": {},
   "outputs": [
    {
     "data": {
      "text/plain": [
       "'Carol spends 4 hours writing a song, half that much time recording it, and 90 minutes editing it. What percentage of her total work time did she spend editing?'"
      ]
     },
     "execution_count": 22,
     "metadata": {},
     "output_type": "execute_result"
    }
   ],
   "source": [
    "df.iloc[476][\"question\"]"
   ]
  },
  {
   "cell_type": "code",
   "execution_count": 38,
   "id": "1629fa78",
   "metadata": {},
   "outputs": [
    {
     "data": {
      "text/html": [
       "<div>\n",
       "<style scoped>\n",
       "    .dataframe tbody tr th:only-of-type {\n",
       "        vertical-align: middle;\n",
       "    }\n",
       "\n",
       "    .dataframe tbody tr th {\n",
       "        vertical-align: top;\n",
       "    }\n",
       "\n",
       "    .dataframe thead th {\n",
       "        text-align: right;\n",
       "    }\n",
       "</style>\n",
       "<table border=\"1\" class=\"dataframe\">\n",
       "  <thead>\n",
       "    <tr style=\"text-align: right;\">\n",
       "      <th></th>\n",
       "      <th>question</th>\n",
       "      <th>result</th>\n",
       "    </tr>\n",
       "  </thead>\n",
       "  <tbody>\n",
       "    <tr>\n",
       "      <th>24</th>\n",
       "      <td>A Ting's shooting percentage is as high as 70%, that is, how many shots he can make for every 10 shots.</td>\n",
       "      <td>7</td>\n",
       "    </tr>\n",
       "    <tr>\n",
       "      <th>98</th>\n",
       "      <td>20 marbles were pulled out of a bag of only white marbles, painted black, and then put back in. Then, another 20 marbles were pulled out, of which 1 was black, after which they were all returned to the bag. If the percentage of black marbles pulled out the second time represents their percentage in the bag, how many marbles in total Q does the bag currently hold?  Select the correct option.\\nA...</td>\n",
       "      <td>D</td>\n",
       "    </tr>\n",
       "    <tr>\n",
       "      <th>158</th>\n",
       "      <td>The refrigerator factory produced 24,000 refrigerators in the first half of this year, 4,000 more than planned. By what percentage?</td>\n",
       "      <td>1/5</td>\n",
       "    </tr>\n",
       "    <tr>\n",
       "      <th>185</th>\n",
       "      <td>The age of Xiaohong's father this year is 4 times of Xiaohong's age, so what percentage of Xiaohong's age is his father's age this year?</td>\n",
       "      <td>1/4</td>\n",
       "    </tr>\n",
       "    <tr>\n",
       "      <th>190</th>\n",
       "      <td>A tree planting team planted 250 trees, 90 more than planned. By what percentage is it more than planned?</td>\n",
       "      <td>9/16</td>\n",
       "    </tr>\n",
       "    <tr>\n",
       "      <th>280</th>\n",
       "      <td>A book was sold for Rs 27.50 with a profit of 10%. If it were sold for Rs. 25.75, then would have been percentage of profit and loss ?\\nChoose the correct choice from the following:\\nA) 2% Profit\\tB) 3% Profit\\tC) 2% Loss\\tD) 3% Loss\\tE) 4% Loss</td>\n",
       "      <td>B</td>\n",
       "    </tr>\n",
       "    <tr>\n",
       "      <th>288</th>\n",
       "      <td>The tape recorder factory planned to produce 3,600 tape recorders in the third quarter, but actually produced 4,500. By what percentage did the actual output exceed the plan?</td>\n",
       "      <td>1/4</td>\n",
       "    </tr>\n",
       "    <tr>\n",
       "      <th>475</th>\n",
       "      <td>Michael is traveling on the interstate at an average speed of 50km/hr (taking into account all the necessary stops for gas, relaxation, etc.). If he goes on like this for 3 days, and the distance between Alaska and Texas is 6000 km, what percentage of this distance has he covered?</td>\n",
       "      <td>60</td>\n",
       "    </tr>\n",
       "    <tr>\n",
       "      <th>476</th>\n",
       "      <td>Carol spends 4 hours writing a song, half that much time recording it, and 90 minutes editing it. What percentage of her total work time did she spend editing?</td>\n",
       "      <td>20</td>\n",
       "    </tr>\n",
       "    <tr>\n",
       "      <th>485</th>\n",
       "      <td>In a dance class of 20 students, 20% enrolled in contemporary dance, 25% of the remaining enrolled in jazz dance, and the rest enrolled in hip-hop dance. What percentage of the entire students enrolled in hip-hop dance?</td>\n",
       "      <td>60</td>\n",
       "    </tr>\n",
       "  </tbody>\n",
       "</table>\n",
       "</div>"
      ],
      "text/plain": [
       "                                                                                                                                                                                                                                                                                                                                                                                                            question  \\\n",
       "24                                                                                                                                                                                                                                                                                                           A Ting's shooting percentage is as high as 70%, that is, how many shots he can make for every 10 shots.   \n",
       "98   20 marbles were pulled out of a bag of only white marbles, painted black, and then put back in. Then, another 20 marbles were pulled out, of which 1 was black, after which they were all returned to the bag. If the percentage of black marbles pulled out the second time represents their percentage in the bag, how many marbles in total Q does the bag currently hold?  Select the correct option.\\nA...   \n",
       "158                                                                                                                                                                                                                                                                              The refrigerator factory produced 24,000 refrigerators in the first half of this year, 4,000 more than planned. By what percentage?   \n",
       "185                                                                                                                                                                                                                                                                         The age of Xiaohong's father this year is 4 times of Xiaohong's age, so what percentage of Xiaohong's age is his father's age this year?   \n",
       "190                                                                                                                                                                                                                                                                                                        A tree planting team planted 250 trees, 90 more than planned. By what percentage is it more than planned?   \n",
       "280                                                                                                                                                            A book was sold for Rs 27.50 with a profit of 10%. If it were sold for Rs. 25.75, then would have been percentage of profit and loss ?\\nChoose the correct choice from the following:\\nA) 2% Profit\\tB) 3% Profit\\tC) 2% Loss\\tD) 3% Loss\\tE) 4% Loss   \n",
       "288                                                                                                                                                                                                                                   The tape recorder factory planned to produce 3,600 tape recorders in the third quarter, but actually produced 4,500. By what percentage did the actual output exceed the plan?   \n",
       "475                                                                                                                        Michael is traveling on the interstate at an average speed of 50km/hr (taking into account all the necessary stops for gas, relaxation, etc.). If he goes on like this for 3 days, and the distance between Alaska and Texas is 6000 km, what percentage of this distance has he covered?   \n",
       "476                                                                                                                                                                                                                                                  Carol spends 4 hours writing a song, half that much time recording it, and 90 minutes editing it. What percentage of her total work time did she spend editing?   \n",
       "485                                                                                                                                                                                      In a dance class of 20 students, 20% enrolled in contemporary dance, 25% of the remaining enrolled in jazz dance, and the rest enrolled in hip-hop dance. What percentage of the entire students enrolled in hip-hop dance?   \n",
       "\n",
       "    result  \n",
       "24       7  \n",
       "98       D  \n",
       "158    1/5  \n",
       "185    1/4  \n",
       "190   9/16  \n",
       "280      B  \n",
       "288    1/4  \n",
       "475     60  \n",
       "476     20  \n",
       "485     60  "
      ]
     },
     "execution_count": 38,
     "metadata": {},
     "output_type": "execute_result"
    }
   ],
   "source": [
    "df[df[\"question\"].str.contains(\"percentage\")][[\"question\", \"result\"]]"
   ]
  },
  {
   "cell_type": "code",
   "execution_count": 23,
   "id": "0368c86b",
   "metadata": {},
   "outputs": [
    {
     "data": {
      "text/html": [
       "<div>\n",
       "<style scoped>\n",
       "    .dataframe tbody tr th:only-of-type {\n",
       "        vertical-align: middle;\n",
       "    }\n",
       "\n",
       "    .dataframe tbody tr th {\n",
       "        vertical-align: top;\n",
       "    }\n",
       "\n",
       "    .dataframe thead th {\n",
       "        text-align: right;\n",
       "    }\n",
       "</style>\n",
       "<table border=\"1\" class=\"dataframe\">\n",
       "  <thead>\n",
       "    <tr style=\"text-align: right;\">\n",
       "      <th></th>\n",
       "      <th>id</th>\n",
       "      <th>question</th>\n",
       "      <th>chain</th>\n",
       "      <th>result</th>\n",
       "      <th>source</th>\n",
       "    </tr>\n",
       "  </thead>\n",
       "  <tbody>\n",
       "    <tr>\n",
       "      <th>0</th>\n",
       "      <td>svamp__chal-551</td>\n",
       "      <td>Robin has some packages of gum. There are 7 pi...</td>\n",
       "      <td>&lt;gadget id=\"calculator\"&gt;41 - 6&lt;/gadget&gt;\\n&lt;outp...</td>\n",
       "      <td>5</td>\n",
       "      <td>calc</td>\n",
       "    </tr>\n",
       "    <tr>\n",
       "      <th>1</th>\n",
       "      <td>ape210k__00027150</td>\n",
       "      <td>2 meters of floral cloth, how much rice is lef...</td>\n",
       "      <td>&lt;gadget id=\"calculator\"&gt;80 / 100&lt;/gadget&gt;\\n&lt;ou...</td>\n",
       "      <td>2/5</td>\n",
       "      <td>calc</td>\n",
       "    </tr>\n",
       "    <tr>\n",
       "      <th>2</th>\n",
       "      <td>ape210k__00287396</td>\n",
       "      <td>There are two schools, A and B. School A has 5...</td>\n",
       "      <td>&lt;gadget id=\"calculator\"&gt;525 * 2&lt;/gadget&gt;\\n&lt;out...</td>\n",
       "      <td>1_000</td>\n",
       "      <td>calc</td>\n",
       "    </tr>\n",
       "    <tr>\n",
       "      <th>3</th>\n",
       "      <td>gsm8k__xtQ5d23fzgEAhUdB</td>\n",
       "      <td>If Mark weighs 150 pounds and Susan weighs 20 ...</td>\n",
       "      <td>Susan weighs 150 pounds - 20 pounds = \\n&lt;gadge...</td>\n",
       "      <td>180</td>\n",
       "      <td>calc</td>\n",
       "    </tr>\n",
       "    <tr>\n",
       "      <th>4</th>\n",
       "      <td>svamp__chal-741</td>\n",
       "      <td>He had a total of 40 saltwater animals in diff...</td>\n",
       "      <td>&lt;gadget id=\"calculator\"&gt;40 / 2&lt;/gadget&gt;\\n&lt;outp...</td>\n",
       "      <td>20</td>\n",
       "      <td>calc</td>\n",
       "    </tr>\n",
       "    <tr>\n",
       "      <th>...</th>\n",
       "      <td>...</td>\n",
       "      <td>...</td>\n",
       "      <td>...</td>\n",
       "      <td>...</td>\n",
       "      <td>...</td>\n",
       "    </tr>\n",
       "    <tr>\n",
       "      <th>95</th>\n",
       "      <td>mawps__9JLUq27DatbNnbFo</td>\n",
       "      <td>Rick had 215 watermelon. Felicita clasped some...</td>\n",
       "      <td>&lt;gadget id=\"calculator\"&gt;215 - 41&lt;/gadget&gt;\\n&lt;ou...</td>\n",
       "      <td>174</td>\n",
       "      <td>calc</td>\n",
       "    </tr>\n",
       "    <tr>\n",
       "      <th>96</th>\n",
       "      <td>ape210k__00997505</td>\n",
       "      <td>A vacant plot covers an area of 2,450 square m...</td>\n",
       "      <td>&lt;gadget id=\"calculator\"&gt;260 * 6&lt;/gadget&gt;\\n&lt;out...</td>\n",
       "      <td>890</td>\n",
       "      <td>calc</td>\n",
       "    </tr>\n",
       "    <tr>\n",
       "      <th>97</th>\n",
       "      <td>ape210k__00221158</td>\n",
       "      <td>Xiao Ming bought two identical pens, paid the ...</td>\n",
       "      <td>&lt;gadget id=\"calculator\"&gt;30 - 6&lt;/gadget&gt;\\n&lt;outp...</td>\n",
       "      <td>12</td>\n",
       "      <td>calc</td>\n",
       "    </tr>\n",
       "    <tr>\n",
       "      <th>98</th>\n",
       "      <td>aqua_rat__qSFpXk6xUUVorLOW</td>\n",
       "      <td>20 marbles were pulled out of a bag of only wh...</td>\n",
       "      <td>We know that there are 20 black marbles in the...</td>\n",
       "      <td>D</td>\n",
       "      <td>calc</td>\n",
       "    </tr>\n",
       "    <tr>\n",
       "      <th>99</th>\n",
       "      <td>asdiv_a__nluds-0093</td>\n",
       "      <td>Hayley had 25 meatballs on her plate. Kirsten ...</td>\n",
       "      <td>&lt;gadget id=\"calculator\"&gt;25 - 11&lt;/gadget&gt;\\n&lt;out...</td>\n",
       "      <td>14</td>\n",
       "      <td>calc</td>\n",
       "    </tr>\n",
       "  </tbody>\n",
       "</table>\n",
       "<p>100 rows × 5 columns</p>\n",
       "</div>"
      ],
      "text/plain": [
       "                            id  \\\n",
       "0              svamp__chal-551   \n",
       "1            ape210k__00027150   \n",
       "2            ape210k__00287396   \n",
       "3      gsm8k__xtQ5d23fzgEAhUdB   \n",
       "4              svamp__chal-741   \n",
       "..                         ...   \n",
       "95     mawps__9JLUq27DatbNnbFo   \n",
       "96           ape210k__00997505   \n",
       "97           ape210k__00221158   \n",
       "98  aqua_rat__qSFpXk6xUUVorLOW   \n",
       "99         asdiv_a__nluds-0093   \n",
       "\n",
       "                                             question  \\\n",
       "0   Robin has some packages of gum. There are 7 pi...   \n",
       "1   2 meters of floral cloth, how much rice is lef...   \n",
       "2   There are two schools, A and B. School A has 5...   \n",
       "3   If Mark weighs 150 pounds and Susan weighs 20 ...   \n",
       "4   He had a total of 40 saltwater animals in diff...   \n",
       "..                                                ...   \n",
       "95  Rick had 215 watermelon. Felicita clasped some...   \n",
       "96  A vacant plot covers an area of 2,450 square m...   \n",
       "97  Xiao Ming bought two identical pens, paid the ...   \n",
       "98  20 marbles were pulled out of a bag of only wh...   \n",
       "99  Hayley had 25 meatballs on her plate. Kirsten ...   \n",
       "\n",
       "                                                chain result source  \n",
       "0   <gadget id=\"calculator\">41 - 6</gadget>\\n<outp...      5   calc  \n",
       "1   <gadget id=\"calculator\">80 / 100</gadget>\\n<ou...    2/5   calc  \n",
       "2   <gadget id=\"calculator\">525 * 2</gadget>\\n<out...  1_000   calc  \n",
       "3   Susan weighs 150 pounds - 20 pounds = \\n<gadge...    180   calc  \n",
       "4   <gadget id=\"calculator\">40 / 2</gadget>\\n<outp...     20   calc  \n",
       "..                                                ...    ...    ...  \n",
       "95  <gadget id=\"calculator\">215 - 41</gadget>\\n<ou...    174   calc  \n",
       "96  <gadget id=\"calculator\">260 * 6</gadget>\\n<out...    890   calc  \n",
       "97  <gadget id=\"calculator\">30 - 6</gadget>\\n<outp...     12   calc  \n",
       "98  We know that there are 20 black marbles in the...      D   calc  \n",
       "99  <gadget id=\"calculator\">25 - 11</gadget>\\n<out...     14   calc  \n",
       "\n",
       "[100 rows x 5 columns]"
      ]
     },
     "execution_count": 23,
     "metadata": {},
     "output_type": "execute_result"
    }
   ],
   "source": [
    "df.head(100)"
   ]
  },
  {
   "cell_type": "code",
   "execution_count": 24,
   "id": "0f3802fa",
   "metadata": {},
   "outputs": [],
   "source": [
    "contains_non_digit = df['result'].str.contains(r'[^0-9]')"
   ]
  },
  {
   "cell_type": "code",
   "execution_count": 25,
   "id": "0dcea850",
   "metadata": {},
   "outputs": [
    {
     "data": {
      "text/plain": [
       "[{'id': 'aqua_rat__1JlCCW4dTTvTIZbG',\n",
       "  'question': 'In how many ways can a teacher in a kindergarten school arrange a group of 3 children (Susan, Tim and Zen) on 3 identical chairs in a straight line so that Susan is on the left of Tim?\\tPick: A) 7 B) 3 C) 2 D) 1 E) 6',\n",
       "  'chain': 'Total ways in which 3 children can be arranged on 3 chairs = 3*2*1= \\n<gadget id=\"calculator\">3*2*1</gadget>\\n<output>6</output>\\n6   But in half cases Susan will be left of Tim and in other half of cases Tim will be on left of Susan   i.e. Desired cases in which Susan is on the left of Tim= (1/2)*6= \\n<gadget id=\"calculator\">(1/2)*6</gadget>\\n<output>3</output>\\n3   3\\n<result>B</result>',\n",
       "  'result': 'B',\n",
       "  'source': 'calc'},\n",
       " {'id': 'ape210k__00490335',\n",
       "  'question': 'The angle between the two radii of a sector is 60°, and its area is ((())/(())) of the area of the circle on which it is located.',\n",
       "  'chain': '<gadget id=\"calculator\">1 / 6</gadget>\\n<output>1/6 = around 0.166667</output>\\n\\n<result>1/6 = around 0.166667</result>',\n",
       "  'result': '1/6',\n",
       "  'source': 'calc'},\n",
       " {'id': 'ape210k__00047241',\n",
       "  'question': 'rectangular nursery, 40 meters long and 18 meters wide, is calculated as 5 seedlings per square meter. How many saplings can this nursery raise?',\n",
       "  'chain': '<gadget id=\"calculator\">40 * 18</gadget>\\n<output>720</output>\\n\\n<gadget id=\"calculator\">720 * 5</gadget>\\n<output>3_600</output>\\n\\n<result>3_600</result>',\n",
       "  'result': '3_600',\n",
       "  'source': 'calc'},\n",
       " {'id': 'ape210k__00704785',\n",
       "  'question': 'If the freight company uses 2 trucks to carry 9600 kg of goods, it can be transported just 4 times. How many kilograms does each truck deliver on average?',\n",
       "  'chain': '<gadget id=\"calculator\">9_600 / 4 / 2</gadget>\\n<output>1_200</output>\\n\\n<result>1_200</result>',\n",
       "  'result': '1_200',\n",
       "  'source': 'calc'},\n",
       " {'id': 'svamp__chal-913',\n",
       "  'question': 'In a school there are 868 girls and the rest are boys. If there are 281 more girls than boys, how many pupils are there in that school?',\n",
       "  'chain': '<gadget id=\"calculator\">868 + 868</gadget>\\n<output>1_736</output>\\n\\n<gadget id=\"calculator\">1_736 - 281</gadget>\\n<output>1_455</output>\\n\\n<result>1455</result>',\n",
       "  'result': '1_455',\n",
       "  'source': 'calc'},\n",
       " {'id': 'aqua_rat__LYnM8lew2CDZPk05',\n",
       "  'question': 'The ratio of the volumes of a cube to that of the sphere which will fit inside the cube is? Choose one:\\nA) 2: π  B) 7:2  C) 8:2  D) 6: π  E) 8:3',\n",
       "  'chain': 'a3 : a3/8 * 4/3 π =&gt; 6: π   Answer: Option 6: π\\n<result>D</result>',\n",
       "  'result': 'D',\n",
       "  'source': 'calc'},\n",
       " {'id': 'ape210k__00048169',\n",
       "  'question': \"The teacher's house used 40 kwh of electricity in July, which was 0.4 kwh more than the electricity consumption in June (4/5). How much kwh was used in June?\",\n",
       "  'chain': '<gadget id=\"calculator\">40 - 0.4</gadget>\\n<output>39.6</output>\\n\\n<gadget id=\"calculator\">4 / 5</gadget>\\n<output>4/5 = around 0.8</output>\\n\\n<gadget id=\"calculator\">39.6 / (4/5)</gadget>\\n<output>49.5</output>\\n\\n<result>49.5</result>',\n",
       "  'result': '49.5',\n",
       "  'source': 'calc'},\n",
       " {'id': 'mawps__dlbL8K5foumjb07t',\n",
       "  'question': 'Elaine pick up 11 bags of blueberry . how many blueberry in each bag? If total 94 blueberry Elaine  pick up.',\n",
       "  'chain': '<gadget id=\"calculator\">94 / 11</gadget>\\n<output>94/11 = around 8.545455</output>\\n\\n<result>94/11</result>',\n",
       "  'result': '94/11',\n",
       "  'source': 'calc'},\n",
       " {'id': 'ape210k__00631881',\n",
       "  'question': 'wire, (3/5) meter is used, and the used part is less than (1/4) meter, what is the original length of this wire?',\n",
       "  'chain': '<gadget id=\"calculator\">3 / 5</gadget>\\n<output>3/5 = around 0.6</output>\\n\\n<gadget id=\"calculator\">1 / 4</gadget>\\n<output>1/4 = around 0.25</output>\\n\\n<gadget id=\"calculator\">(3/5) + (1/4) + (3/5)</gadget>\\n<output>29/20 = around 1.45</output>\\n\\n<result>29/20 = around 1.45</result>',\n",
       "  'result': '29/20',\n",
       "  'source': 'calc'},\n",
       " {'id': 'mawps__Os4sGvy3Wj2MH1N8',\n",
       "  'question': 'Michael had 109 cherrys. He halves all cherrys evenly among some friends. How many friends were there, If each of his friend get 20 cherrys?',\n",
       "  'chain': '<gadget id=\"calculator\">109 / 20</gadget>\\n<output>109/20 = around 5.45</output>\\n\\n<result>109/20</result>',\n",
       "  'result': '109/20',\n",
       "  'source': 'calc'}]"
      ]
     },
     "execution_count": 25,
     "metadata": {},
     "output_type": "execute_result"
    }
   ],
   "source": [
    "df[contains_non_digit].to_dict('records')[10:20]"
   ]
  },
  {
   "cell_type": "code",
   "execution_count": 26,
   "id": "342e1328",
   "metadata": {},
   "outputs": [
    {
     "name": "stdout",
     "output_type": "stream",
     "text": [
      "2/5\n",
      "1_000\n",
      "1/10\n",
      "22_750\n",
      "1_088\n",
      "B\n",
      "1/5\n",
      "65/7\n",
      "216.66\n",
      "9_000\n",
      "B\n",
      "1/6\n",
      "3_600\n",
      "1_200\n",
      "1_455\n",
      "D\n",
      "49.5\n",
      "94/11\n",
      "29/20\n",
      "109/20\n",
      "11_232\n",
      "139/15\n",
      "2_880\n",
      "121/18\n",
      "8.4\n",
      "10.9\n",
      "D\n",
      "12.4\n",
      "22.5\n",
      "12/25\n",
      "11/5\n",
      "14_400\n",
      "D\n",
      "4.62\n",
      "9/2\n",
      "1/5\n",
      "44_260\n",
      "13_132\n",
      "199/13\n",
      "1.46\n",
      "12.56\n",
      "6_000\n",
      "655/16\n",
      "1/8\n",
      "A\n",
      "1/4\n",
      "D\n",
      "9/16\n",
      "4_400\n",
      "1_414\n",
      "4_802\n",
      "201/17\n",
      "18/7\n",
      "738/29\n",
      "1_400\n",
      "1_080\n",
      "C\n",
      "8/5\n",
      "15/16\n",
      "25/6\n",
      "D\n",
      "200.000005\n",
      "B\n",
      "18/13\n",
      "B\n",
      "10_280\n",
      "B\n",
      "1/4\n",
      "4.999995\n",
      "B\n",
      "4.559996\n",
      "14.57\n",
      "5.35\n",
      "C\n",
      "2_856\n",
      "1_800\n",
      "7_500\n",
      "C\n",
      "A\n",
      "19.3\n",
      "31/6\n",
      "C\n",
      "A\n",
      "188/25\n",
      "2/9\n",
      "8_000\n",
      "224_000\n",
      "A\n",
      "1/3\n",
      "4.2\n",
      "1_862\n",
      "E\n",
      "5_700\n",
      "9/10\n",
      "4_284\n",
      "276_000\n",
      "E\n",
      "38/5\n",
      "57_500\n",
      "7/15\n",
      "B\n",
      "3/8\n",
      "1/4\n",
      "1_949\n",
      "1_538_832\n",
      "103.5\n",
      "31/9\n",
      "2_880\n",
      "1_800\n",
      "C\n"
     ]
    }
   ],
   "source": [
    "for d in df[contains_non_digit][\"result\"].tolist():\n",
    "    print(d)"
   ]
  },
  {
   "cell_type": "code",
   "execution_count": 1,
   "id": "5bff7b68",
   "metadata": {},
   "outputs": [],
   "source": [
    "%load_ext autoreload"
   ]
  },
  {
   "cell_type": "code",
   "execution_count": 2,
   "id": "a55305ad",
   "metadata": {},
   "outputs": [],
   "source": [
    "%autoreload 2"
   ]
  },
  {
   "cell_type": "code",
   "execution_count": 3,
   "id": "d50f34a2",
   "metadata": {},
   "outputs": [],
   "source": [
    "from helper import extract_numbers_and_percentages"
   ]
  },
  {
   "cell_type": "code",
   "execution_count": 4,
   "id": "6cd49234",
   "metadata": {},
   "outputs": [
    {
     "name": "stdout",
     "output_type": "stream",
     "text": [
      "[]\n"
     ]
    },
    {
     "data": {
      "text/plain": [
       "1000.0"
      ]
     },
     "execution_count": 4,
     "metadata": {},
     "output_type": "execute_result"
    }
   ],
   "source": [
    "# test for 1,000\n",
    "extract_numbers_and_percentages(\"$1,000\")\n",
    "# decide how to extract percentage by groudtruth.\n",
    "# 60%, 60 or 60%, 0.6"
   ]
  },
  {
   "cell_type": "code",
   "execution_count": 12,
   "id": "986bc8e5",
   "metadata": {},
   "outputs": [
    {
     "data": {
      "text/plain": [
       "-1000.0"
      ]
     },
     "execution_count": 12,
     "metadata": {},
     "output_type": "execute_result"
    }
   ],
   "source": [
    "extract_numbers_and_percentages(\"-1,000\")"
   ]
  },
  {
   "cell_type": "code",
   "execution_count": 13,
   "id": "fbc08619",
   "metadata": {},
   "outputs": [
    {
     "data": {
      "text/plain": [
       "0.3333333333333333"
      ]
     },
     "execution_count": 13,
     "metadata": {},
     "output_type": "execute_result"
    }
   ],
   "source": [
    "extract_numbers_and_percentages(\"The remaining cake is more than 1/3.\")"
   ]
  },
  {
   "cell_type": "code",
   "execution_count": 14,
   "id": "20f98740",
   "metadata": {},
   "outputs": [
    {
     "data": {
      "text/plain": [
       "0.48"
      ]
     },
     "execution_count": 14,
     "metadata": {},
     "output_type": "execute_result"
    }
   ],
   "source": [
    "extract_numbers_and_percentages(\"12/25.\")"
   ]
  },
  {
   "cell_type": "code",
   "execution_count": 15,
   "id": "d5742ee2",
   "metadata": {},
   "outputs": [
    {
     "data": {
      "text/plain": [
       "0.48"
      ]
     },
     "execution_count": 15,
     "metadata": {},
     "output_type": "execute_result"
    }
   ],
   "source": [
    "extract_numbers_and_percentages(\"0.48 or 12/25.\")"
   ]
  },
  {
   "cell_type": "code",
   "execution_count": null,
   "id": "a88b0e79",
   "metadata": {},
   "outputs": [
    {
     "ename": "SyntaxError",
     "evalue": "invalid syntax (<string>, line 1)",
     "output_type": "error",
     "traceback": [
      "\u001b[31mValueError\u001b[39m\u001b[31m:\u001b[39m Error from parse_expr with transformed code: 'frac {Integer (1 )}{Integer (6 )}'\n",
      "\nThe above exception was the direct cause of the following exception:\n",
      "Traceback \u001b[36m(most recent call last)\u001b[39m:\n",
      "  File \u001b[92m/opt/conda/envs/agent-lightning/lib/python3.12/site-packages/IPython/core/interactiveshell.py:3699\u001b[39m in \u001b[95mrun_code\u001b[39m\n    exec(code_obj, self.user_global_ns, self.user_ns)\n",
      "  Cell \u001b[92mIn[2]\u001b[39m\u001b[92m, line 3\u001b[39m\n    sympy.parse_expr(input_str, evaluate=True)\n",
      "  File \u001b[92m/opt/conda/envs/agent-lightning/lib/python3.12/site-packages/sympy/parsing/sympy_parser.py:1090\u001b[39m in \u001b[95mparse_expr\u001b[39m\n    raise e from ValueError(f\"Error from parse_expr with transformed code: {code!r}\")\n",
      "  File \u001b[92m/opt/conda/envs/agent-lightning/lib/python3.12/site-packages/sympy/parsing/sympy_parser.py:1081\u001b[39m in \u001b[95mparse_expr\u001b[39m\n    rv = eval_expr(code, local_dict, global_dict)\n",
      "\u001b[36m  \u001b[39m\u001b[36mFile \u001b[39m\u001b[32m/opt/conda/envs/agent-lightning/lib/python3.12/site-packages/sympy/parsing/sympy_parser.py:905\u001b[39m\u001b[36m in \u001b[39m\u001b[35meval_expr\u001b[39m\n\u001b[31m    \u001b[39m\u001b[31mexpr = eval(\u001b[39m\n",
      "  \u001b[36mFile \u001b[39m\u001b[32m<string>:1\u001b[39m\n\u001b[31m    \u001b[39m\u001b[31mfrac {Integer (1 )}{Integer (6 )}\u001b[39m\n         ^\n\u001b[31mSyntaxError\u001b[39m\u001b[31m:\u001b[39m invalid syntax\n"
     ]
    }
   ],
   "source": [
    "import sympy\n",
    "input_str = \"\\frac{1}{6}\"\n",
    "sympy.parse_expr(input_str, evaluate=True)"
   ]
  }
 ],
 "metadata": {
  "kernelspec": {
   "display_name": "agent-lightning",
   "language": "python",
   "name": "python3"
  },
  "language_info": {
   "codemirror_mode": {
    "name": "ipython",
    "version": 3
   },
   "file_extension": ".py",
   "mimetype": "text/x-python",
   "name": "python",
   "nbconvert_exporter": "python",
   "pygments_lexer": "ipython3",
   "version": "3.12.11"
  }
 },
 "nbformat": 4,
 "nbformat_minor": 5
}
